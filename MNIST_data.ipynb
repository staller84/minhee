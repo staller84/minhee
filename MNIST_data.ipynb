{
  "nbformat": 4,
  "nbformat_minor": 0,
  "metadata": {
    "colab": {
      "name": "hw4_pmh_mnist.ipynb",
      "provenance": [],
      "collapsed_sections": [],
      "include_colab_link": true
    },
    "kernelspec": {
      "name": "python3",
      "display_name": "Python 3"
    }
  },
  "cells": [
    {
      "cell_type": "markdown",
      "metadata": {
        "id": "view-in-github",
        "colab_type": "text"
      },
      "source": [
        "<a href=\"https://colab.research.google.com/github/staller84/minhee/blob/master/hw4_pmh_mnist.ipynb\" target=\"_parent\"><img src=\"https://colab.research.google.com/assets/colab-badge.svg\" alt=\"Open In Colab\"/></a>"
      ]
    },
    {
      "cell_type": "code",
      "metadata": {
        "id": "0pPleOkw4n_k",
        "colab_type": "code",
        "colab": {
          "base_uri": "https://localhost:8080/",
          "height": 233
        },
        "outputId": "6c82b961-20cd-41a3-fa78-69078154183c"
      },
      "source": [
        "import numpy as np\n",
        "import os\n",
        "import urllib\n",
        "import gzip\n",
        "import matplotlib.pyplot as plt\n",
        "\n",
        "def load_mnist():\n",
        "    url_tr_dat = 'http://yann.lecun.com/exdb/mnist/train-images-idx3-ubyte.gz'\n",
        "    url_tr_lab = 'http://yann.lecun.com/exdb/mnist/train-labels-idx1-ubyte.gz'\n",
        "    url_ts_dat = 'http://yann.lecun.com/exdb/mnist/t10k-images-idx3-ubyte.gz'\n",
        "    url_ts_lab = 'http://yann.lecun.com/exdb/mnist/t10k-labels-idx1-ubyte.gz'\n",
        "\n",
        "    if not os.path.exists('./mnist-batches-py'):\n",
        "        os.mkdir('mnist-batches-py')\n",
        "\n",
        "        urllib.request.urlretrieve(url_tr_dat, './mnist-batches-py/train-images-idx3-ubyte.gz')\n",
        "        urllib.request.urlretrieve(url_tr_lab, './mnist-batches-py/train-labels-idx1-ubyte.gz')\n",
        "        urllib.request.urlretrieve(url_ts_dat, './mnist-batches-py/t10k-images-idx3-ubyte.gz')\n",
        "        urllib.request.urlretrieve(url_ts_lab, './mnist-batches-py/t10k-labels-idx1-ubyte.gz')\n",
        "\n",
        "    X_train_f = gzip.open('./mnist-batches-py/train-images-idx3-ubyte.gz', 'rb')\n",
        "    y_train_f = gzip.open('./mnist-batches-py/train-labels-idx1-ubyte.gz', 'rb')\n",
        "    X_test_f = gzip.open('./mnist-batches-py/t10k-images-idx3-ubyte.gz', 'rb')\n",
        "    y_test_f = gzip.open('./mnist-batches-py/t10k-labels-idx1-ubyte.gz', 'rb')\n",
        "\n",
        "    s = X_train_f.read()\n",
        "    loaded = np.frombuffer(s, dtype=np.uint8)\n",
        "    X_train = loaded[16:].reshape((60000, 1, 28, 28)).astype(float)\n",
        "\n",
        "    s = y_train_f.read()\n",
        "    loaded = np.frombuffer(s, dtype=np.uint8)\n",
        "    y_train = loaded[8:].reshape((60000,)).astype('uint8')\n",
        "\n",
        "    s = X_test_f.read()\n",
        "    loaded = np.frombuffer(s, dtype=np.uint8)\n",
        "    X_test = loaded[16:].reshape((10000, 1, 28, 28)).astype('uint8')\n",
        "\n",
        "    s = y_test_f.read()\n",
        "    loaded = np.frombuffer(s, dtype=np.uint8)\n",
        "    y_test = loaded[8:].reshape((10000,)).astype('uint8')\n",
        "\n",
        "    X_train_f.close()\n",
        "    y_train_f.close()\n",
        "    X_test_f.close()\n",
        "    y_test_f.close()\n",
        "\n",
        "    return X_train, y_train, X_test, y_test\n",
        "\n",
        "mnist_data = load_mnist()\n",
        "\n",
        "X_train = mnist_data[0]\n",
        "y_train = mnist_data[1]\n",
        "\n",
        "X_test = mnist_data[2]\n",
        "y_test = mnist_data[3]\n",
        "\n",
        "# Check the size of the training and test data.\n",
        "print('Training data shape: ', X_train.shape)\n",
        "print('Training labels shape: ', y_train.shape)\n",
        "print('Test data shape: ', X_test.shape)\n",
        "print('Test labels shape: ', y_test.shape)\n",
        "\n",
        "# select three random number images\n",
        "num_plot=3\n",
        "sample_index = np.random.randint(0,X_train.shape[0],(num_plot,))\n",
        "\n",
        "# plot the selected images\n",
        "for i in range(num_plot):\n",
        "  img=np.squeeze(X_train[sample_index[i]])\n",
        "  ax=plt.subplot('1'+str(num_plot)+str(i))\n",
        "  plt.imshow(img,cmap=plt.get_cmap('gray'))\n",
        "  ######\n",
        "  ## Q5. Complete the below function ax.set_title\n",
        "  #####\n",
        "  ax.set_title(y_train[sample_index[i]])\n",
        "\n",
        "plt.show()"
      ],
      "execution_count": 2,
      "outputs": [
        {
          "output_type": "stream",
          "text": [
            "Training data shape:  (60000, 1, 28, 28)\n",
            "Training labels shape:  (60000,)\n",
            "Test data shape:  (10000, 1, 28, 28)\n",
            "Test labels shape:  (10000,)\n"
          ],
          "name": "stdout"
        },
        {
          "output_type": "display_data",
          "data": {
            "image/png": "[encoded data removed]",
            "text/plain": [
              "<Figure size 432x288 with 3 Axes>"
            ]
          },
          "metadata": {
            "tags": []
          }
        }
      ]
    },
    {
      "cell_type": "code",
      "metadata": {
        "id": "ONja113j4zBj",
        "colab_type": "code",
        "colab": {}
      },
      "source": [
        ""
      ],
      "execution_count": 0,
      "outputs": []
    }
  ]
}
