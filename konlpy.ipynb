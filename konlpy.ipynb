{
  "nbformat": 4,
  "nbformat_minor": 0,
  "metadata": {
    "colab": {
      "name": "konlpy.ipynb",
      "provenance": [],
      "collapsed_sections": [],
      "include_colab_link": true
    },
    "kernelspec": {
      "name": "python3",
      "display_name": "Python 3"
    }
  },
  "cells": [
    {
      "cell_type": "markdown",
      "metadata": {
        "id": "view-in-github",
        "colab_type": "text"
      },
      "source": [
        "<a href=\"https://colab.research.google.com/github/staller84/minhee/blob/master/konlpy.ipynb\" target=\"_parent\"><img src=\"https://colab.research.google.com/assets/colab-badge.svg\" alt=\"Open In Colab\"/></a>"
      ]
    },
    {
      "cell_type": "markdown",
      "metadata": {
        "id": "pIC30b3rmOhL",
        "colab_type": "text"
      },
      "source": [
        "# 설치\n"
      ]
    },
    {
      "cell_type": "code",
      "metadata": {
        "id": "CXyzuldamNXH",
        "colab_type": "code",
        "outputId": "e54735de-3daf-4ecb-975f-64e825f6e726",
        "colab": {
          "base_uri": "https://localhost:8080/",
          "height": 263
        }
      },
      "source": [
        "!git clone https://github.com/e9t/nsmc.git\n",
        "!pip3 install konlpy"
      ],
      "execution_count": 1,
      "outputs": [
        {
          "output_type": "stream",
          "text": [
            "Cloning into 'nsmc'...\n",
            "remote: Enumerating objects: 14763, done.\u001b[K\n",
            "remote: Total 14763 (delta 0), reused 0 (delta 0), pack-reused 14763\u001b[K\n",
            "Receiving objects: 100% (14763/14763), 56.19 MiB | 9.01 MiB/s, done.\n",
            "Resolving deltas: 100% (1749/1749), done.\n",
            "Checking out files: 100% (14737/14737), done.\n",
            "Collecting konlpy\n",
            "\u001b[?25l  Downloading https://files.pythonhosted.org/packages/e5/3d/4e983cd98d87b50b2ab0387d73fa946f745aa8164e8888a714d5129f9765/konlpy-0.5.1-py2.py3-none-any.whl (19.4MB)\n",
            "\u001b[K     |████████████████████████████████| 19.4MB 100kB/s \n",
            "\u001b[?25hCollecting JPype1>=0.5.7\n",
            "\u001b[?25l  Downloading https://files.pythonhosted.org/packages/07/09/e19ce27d41d4f66d73ac5b6c6a188c51b506f56c7bfbe6c1491db2d15995/JPype1-0.7.0-cp36-cp36m-manylinux2010_x86_64.whl (2.7MB)\n",
            "\u001b[K     |████████████████████████████████| 2.7MB 36.0MB/s \n",
            "\u001b[?25hInstalling collected packages: JPype1, konlpy\n",
            "Successfully installed JPype1-0.7.0 konlpy-0.5.1\n"
          ],
          "name": "stdout"
        }
      ]
    },
    {
      "cell_type": "markdown",
      "metadata": {
        "id": "N28Ciqu6mNm-",
        "colab_type": "text"
      },
      "source": [
        "# 실습 코드"
      ]
    },
    {
      "cell_type": "code",
      "metadata": {
        "id": "AJ4SPIWJpubW",
        "colab_type": "code",
        "outputId": "f4798e36-00b0-4ff8-9396-b2dd4c8d9b87",
        "colab": {
          "base_uri": "https://localhost:8080/",
          "height": 34
        }
      },
      "source": [
        "from konlpy.tag import Kkma\n",
        "kkma = Kkma()\n",
        "# print(kkma.sentences('네 안녕하세요 반갑습니다.'))\n",
        "print(kkma.nouns('네 안녕하세요 반갑습니다.'))"
      ],
      "execution_count": 3,
      "outputs": [
        {
          "output_type": "stream",
          "text": [
            "[]\n"
          ],
          "name": "stdout"
        }
      ]
    },
    {
      "cell_type": "code",
      "metadata": {
        "id": "JaxvypvEmxDt",
        "colab_type": "code",
        "outputId": "c8fb2bf3-636c-4baf-d2a2-d47d876f68b5",
        "colab": {
          "base_uri": "https://localhost:8080/",
          "height": 34
        }
      },
      "source": [
        "from konlpy.tag import Kkma\n",
        "kkma = Kkma()\n",
        "print(kkma.nouns('하늘을 나는 자동차.'))"
      ],
      "execution_count": 4,
      "outputs": [
        {
          "output_type": "stream",
          "text": [
            "['하늘', '자동차']\n"
          ],
          "name": "stdout"
        }
      ]
    },
    {
      "cell_type": "code",
      "metadata": {
        "id": "FcSMqZEDm4Kk",
        "colab_type": "code",
        "outputId": "00d6f48c-eca0-4e7d-af3c-a678dc582302",
        "colab": {
          "base_uri": "https://localhost:8080/",
          "height": 54
        }
      },
      "source": [
        "from konlpy.tag import Okt\n",
        "from konlpy.tag import Kkma\n",
        "# okt = Okt()\n",
        "kkm = Kkma()\n",
        "# print(okt.pos('아이폰 기다리다 지쳐 공홈에서 언락폰을 질러버렸다'))\n",
        "print(kkm.pos('아이폰 기다리다 지쳐 공홈에서 언락폰을 질러버렸다')) "
      ],
      "execution_count": 6,
      "outputs": [
        {
          "output_type": "stream",
          "text": [
            "[('아이', 'NNG'), ('폰', 'NNG'), ('기다리', 'VV'), ('다', 'ECS'), ('지치', 'VV'), ('어', 'ECS'), ('공', 'NNG'), ('홈', 'NNG'), ('에서', 'JKM'), ('언락', 'NNG'), ('폰', 'NNG'), ('을', 'JKO'), ('지르', 'VV'), ('어', 'ECS'), ('버리', 'VXV'), ('었', 'EPT'), ('다', 'EFN')]\n"
          ],
          "name": "stdout"
        }
      ]
    },
    {
      "cell_type": "code",
      "metadata": {
        "id": "NzItc11NfMPh",
        "colab_type": "code",
        "colab": {
          "base_uri": "https://localhost:8080/",
          "height": 34
        },
        "outputId": "2b6d8adf-8d3c-4b3a-9039-c1c84c7e9f18"
      },
      "source": [
        "from konlpy.tag import Okt\n",
        "from konlpy.tag import Kkma\n",
        "okt = Okt()\n",
        "# kkm = Kkma()\n",
        "print(okt.pos('아이폰 기다리다 지쳐 공홈에서 언락폰을 질러버렸다'))\n",
        "# print(kkm.pos('아이폰 기다리다 지쳐 공홈에서 언락폰을 질러버렸다')) "
      ],
      "execution_count": 8,
      "outputs": [
        {
          "output_type": "stream",
          "text": [
            "[('아이폰', 'Noun'), ('기다리다', 'Verb'), ('지쳐', 'Verb'), ('공홈', 'Noun'), ('에서', 'Josa'), ('언락폰', 'Noun'), ('을', 'Josa'), ('질러', 'Verb'), ('버렸다', 'Verb')]\n"
          ],
          "name": "stdout"
        }
      ]
    },
    {
      "cell_type": "code",
      "metadata": {
        "id": "NSVop3-Ef6Qk",
        "colab_type": "code",
        "colab": {
          "base_uri": "https://localhost:8080/",
          "height": 54
        },
        "outputId": "97d33684-6c30-4f2f-be28-8218d3878ef0"
      },
      "source": [
        "from konlpy.tag import Komoran \n",
        "komoran = Komoran()\n",
        "# kkm = Kkma()\n",
        "print(komoran.pos('아이폰 기다리다 지쳐 공홈에서 언락폰을 질러버렸다'))\n",
        "# print(kkm.pos('아이폰 기다리다 지쳐 공홈에서 언락폰을 질러버렸다')) "
      ],
      "execution_count": 9,
      "outputs": [
        {
          "output_type": "stream",
          "text": [
            "[('아이폰', 'NNP'), ('기다리', 'VV'), ('다', 'EC'), ('지치', 'VV'), ('어', 'EC'), ('공', 'NNG'), ('홈', 'NNG'), ('에서', 'JKB'), ('언', 'NNG'), ('락', 'NNG'), ('폰', 'NNG'), ('을', 'JKO'), ('지르', 'VV'), ('어', 'EC'), ('버리', 'VX'), ('었', 'EP'), ('다', 'EC')]\n"
          ],
          "name": "stdout"
        }
      ]
    },
    {
      "cell_type": "code",
      "metadata": {
        "id": "4mcyiAAHgFTG",
        "colab_type": "code",
        "colab": {}
      },
      "source": [
        ""
      ],
      "execution_count": 0,
      "outputs": []
    }
  ]
}